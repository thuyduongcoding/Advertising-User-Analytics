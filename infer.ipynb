{
 "cells": [
  {
   "cell_type": "markdown",
   "metadata": {},
   "source": [
    "# Inference Fisheye Distortion "
   ]
  },
  {
   "cell_type": "code",
   "execution_count": 14,
   "metadata": {},
   "outputs": [],
   "source": [
    "from fisheye import apply_fisheye, apply_fisheye2, crop_circle\n",
    "#Fisheye2 works directly from image variable, not image_path variable"
   ]
  },
  {
   "cell_type": "code",
   "execution_count": 18,
   "metadata": {},
   "outputs": [],
   "source": [
    "img_folder = '/home/duong/Downloads/extracted_frame/4'"
   ]
  },
  {
   "cell_type": "markdown",
   "metadata": {},
   "source": [
    "# [WIP] Create Dataset "
   ]
  },
  {
   "cell_type": "code",
   "execution_count": 16,
   "metadata": {},
   "outputs": [],
   "source": [
    "import os\n",
    "from tqdm import tqdm\n",
    "import cv2\n",
    "from PIL import Image, ImageDraw"
   ]
  },
  {
   "cell_type": "code",
   "execution_count": 11,
   "metadata": {},
   "outputs": [],
   "source": [
    "os.makedirs('/home/duong/Downloads/fisheye', exist_ok = True)"
   ]
  },
  {
   "cell_type": "code",
   "execution_count": 21,
   "metadata": {},
   "outputs": [],
   "source": [
    "# This code for aaurainsnow dataset\n",
    "#access to all sub folder in folder\n",
    "ban_keywords = ['mask', 'Mask', 'thermal', 'fisheye', 'cam2']\n",
    "\n",
    "fisheye_folder1 = '/home/duong/Downloads/fisheye/4/fisheye1'\n",
    "fisheye_folder2 = '/home/duong/Downloads/fisheye/4/fisheye2'\n",
    "groundtruth_folder = '/home/duong/Downloads/fisheye/4/groundtruth'\n",
    "\n",
    "os.makedirs(fisheye_folder1 , exist_ok = True)\n",
    "os.makedirs(fisheye_folder2 , exist_ok = True)\n",
    "os.makedirs(groundtruth_folder, exist_ok = True)\n",
    "\n",
    "for filename in os.listdir(img_folder):\n",
    "    \n",
    "    if any(keyword in filename for keyword in ban_keywords):\n",
    "        continue\n",
    "    # Distortet name is fisheye_ + filename\n",
    "    if filename.endswith('.jpg'):\n",
    "    \n",
    "        circle = crop_circle(os.path.join(img_folder, filename))\n",
    "        filename = filename.replace('.jpg', '')\n",
    "        filename += '.png'\n",
    "        circle.save(os.path.join(groundtruth_folder, filename))\n",
    "        dimage = apply_fisheye2(circle, focus=None, radius=None, distortion=-4)\n",
    "        dimage.save(os.path.join(fisheye_folder1, filename))\n",
    "        \n",
    "        dimage = apply_fisheye2(dimage, focus=None, radius=None, distortion=-2)\n",
    "        dimage.save(os.path.join(fisheye_folder2, filename))\n"
   ]
  }
 ],
 "metadata": {
  "kernelspec": {
   "display_name": "Python 3 (ipykernel)",
   "language": "python",
   "name": "python3"
  },
  "language_info": {
   "codemirror_mode": {
    "name": "ipython",
    "version": 3
   },
   "file_extension": ".py",
   "mimetype": "text/x-python",
   "name": "python",
   "nbconvert_exporter": "python",
   "pygments_lexer": "ipython3",
   "version": "3.12.1"
  }
 },
 "nbformat": 4,
 "nbformat_minor": 4
}
